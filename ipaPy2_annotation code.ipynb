{
 "cells": [
  {
   "cell_type": "markdown",
   "id": "482bd9a6",
   "metadata": {},
   "source": [
    "Annotating Metabolomics Features with ipaPy2"
   ]
  },
  {
   "cell_type": "markdown",
   "id": "998f7def",
   "metadata": {},
   "source": [
    "Install the ipaPy2 package directly from GitHub\n",
    "\n",
    "pip install git+https://github.com/francescodc87/ipaPy2.git\n",
    "\n",
    "Loading libraries and databases"
   ]
  },
  {
   "cell_type": "code",
   "execution_count": null,
   "id": "6240d83e",
   "metadata": {},
   "outputs": [],
   "source": [
    "# Load libraries\n",
    "import pandas as pd\n",
    "import numpy as np\n",
    "import json\n",
    "\n",
    "# Adducts Table: known mass shifts for common ionization adducts\n",
    "adducts = pd.read_csv(r\"C:\\Users\\samri\\Documents\\101_bioinformatics\\IPA\\ipaPy2\\DB\\adducts.csv\")\n",
    "\n",
    "# Main Database (DB): MS1-level reference information containing metabolite entries (m/z and RT).\n",
    "DB = pd.read_csv(r\"C:\\Users\\samri\\Documents\\101_bioinformatics\\IPA\\ipaPy2\\DB\\IPA_MS1.csv\")\n"
   ]
  },
  {
   "cell_type": "markdown",
   "id": "4f5f7e4c",
   "metadata": {},
   "source": [
    "Load Metabolomics Data for Annotation"
   ]
  },
  {
   "cell_type": "code",
   "execution_count": null,
   "id": "b3af5807",
   "metadata": {},
   "outputs": [],
   "source": [
    "#df2=pd.read_csv(r\"C:\\Users\\samri\\Documents\\101_bioinformatics\\DISS\\Multi-Omics\\metabolomics\\ipa_input_allFeatures_pos_C_vs_B.csv\")\n",
    "df2=pd.read_csv(r\"C:\\Users\\samri\\Documents\\101_bioinformatics\\DISS\\Multi-Omics\\metabolomics\\ipa_input_allFeatures_neg_C_vs_B.csv\")\n",
    "df2.head()"
   ]
  },
  {
   "cell_type": "markdown",
   "id": "9c546994",
   "metadata": {},
   "source": [
    "Cluster features"
   ]
  },
  {
   "cell_type": "code",
   "execution_count": null,
   "id": "f62fbc2a",
   "metadata": {},
   "outputs": [],
   "source": [
    "from ipaPy2 import ipa\n",
    "df_clustered = ipa.clusterFeatures(df2)\n"
   ]
  },
  {
   "cell_type": "markdown",
   "id": "d31e6288",
   "metadata": {},
   "source": [
    "Run IPA feature annotation\n",
    "Use the simpleIPA function:\n",
    "\n",
    "Inputs:\n",
    "\n",
    "Clustered feature data.\n",
    "\n",
    "Positive ionisation mode (ionisation=1) or adjust as needed.\n",
    "\n",
    "Reference database (DB) and adducts list.\n",
    "\n",
    "Mass accuracy window (ppm=3)."
   ]
  },
  {
   "cell_type": "code",
   "execution_count": null,
   "id": "86aaffb3",
   "metadata": {},
   "outputs": [],
   "source": [
    "annotations = ipa.simpleIPA(df_clustered, ionisation=1, DB=DB, adductsAll=adducts, ppm=3)"
   ]
  },
  {
   "cell_type": "markdown",
   "id": "ae4baf5e",
   "metadata": {},
   "source": [
    "Flatten and Format Annotations\n",
    "The output of simpleIPA is a nested dictionary (features mapped to multiple possible annotations).\n",
    "\n",
    "Flatten this into a clean list of records:\n",
    "\n",
    "Each record = one annotation linked to one feature."
   ]
  },
  {
   "cell_type": "code",
   "execution_count": null,
   "id": "8499fcc4",
   "metadata": {},
   "outputs": [],
   "source": [
    "# Initialize an empty list to collect flattened annotation records\n",
    "flattened_annotations = []\n",
    "\n",
    "# Loop over each feature ID and its corresponding list of annotations\n",
    "for feature_id, annotation_list in annotations.items():\n",
    "    \n",
    "    # Loop through each annotation entry for the current feature\n",
    "    for annotation in annotation_list:\n",
    "        \n",
    "        # Check if the annotation is a dictionary (structured annotation)\n",
    "        if isinstance(annotation, dict):\n",
    "            \n",
    "            # Create a new record starting with the Feature ID\n",
    "            record = {\"Feature_ID\": feature_id}\n",
    "            \n",
    "            # Add all key-value pairs from the annotation dictionary into the record\n",
    "            record.update(annotation)\n",
    "            \n",
    "            # Append the completed record to the flattened list\n",
    "            flattened_annotations.append(record)\n",
    "        \n",
    "        else:\n",
    "            # If the annotation is not a dictionary (e.g., a simple string or note),\n",
    "            # create a record with Feature ID and a simple Annotation field\n",
    "            flattened_annotations.append({\"Feature_ID\": feature_id, \"Annotation\": annotation})\n"
   ]
  },
  {
   "cell_type": "markdown",
   "id": "5fd3d4b0",
   "metadata": {},
   "source": [
    "Save Flat Annotations to CSV\n",
    "Convert flattened records to a DataFrame and export as CSV.\n"
   ]
  },
  {
   "cell_type": "code",
   "execution_count": null,
   "id": "ff454428",
   "metadata": {},
   "outputs": [],
   "source": [
    "annotations_df = pd.DataFrame(flattened_annotations)\n",
    "annotations_df.to_csv(r\"C:\\Users\\samri\\Documents\\101_bioinformatics\\IPA\\annotations_output_flat_allFeatures_pos.csv\", index=False)"
   ]
  },
  {
   "cell_type": "markdown",
   "id": "a4b37acd",
   "metadata": {},
   "source": [
    "Serialize and Clean Annotations for JSON Export\n",
    "Because IPA outputs may contain NaN values (which are invalid in JSON), they are replaced with None for clean serialization."
   ]
  },
  {
   "cell_type": "code",
   "execution_count": null,
   "id": "19c047d9",
   "metadata": {},
   "outputs": [],
   "source": [
    "\n",
    "# Define a recursive function to serialize an object,\n",
    "# replacing NaNs with None (which are valid in JSON)\n",
    "def serialize_annotations(obj):\n",
    "    \n",
    "    # If the object is a pandas DataFrame\n",
    "    if isinstance(obj, pd.DataFrame):\n",
    "        # Replace NaN values with None and convert to a list of records (dictionaries)\n",
    "        return obj.replace({np.nan: None}).to_dict(orient=\"records\")\n",
    "    \n",
    "    # If the object is a dictionary\n",
    "    elif isinstance(obj, dict):\n",
    "        # Recursively apply serialization to each key-value pair\n",
    "        return {k: serialize_annotations(v) for k, v in obj.items()}\n",
    "    \n",
    "    # If the object is a list\n",
    "    elif isinstance(obj, list):\n",
    "        # Recursively apply serialization to each item in the list\n",
    "        return [serialize_annotations(i) for i in obj]\n",
    "    \n",
    "    # If the object is a float and is NaN\n",
    "    elif isinstance(obj, float) and np.isnan(obj):\n",
    "        # Replace the NaN value with None\n",
    "        return None\n",
    "    \n",
    "    # Otherwise, return the object unchanged\n",
    "    else:\n",
    "        return obj\n",
    "\n",
    "# Apply cleaning function\n",
    "annotations_serializable = serialize_annotations(annotations)\n"
   ]
  },
  {
   "cell_type": "markdown",
   "id": "e47a1474",
   "metadata": {},
   "source": [
    "Save Cleaned Annotations to JSON\n",
    "Export the cleaned annotations dictionary as a readable JSON file."
   ]
  },
  {
   "cell_type": "code",
   "execution_count": null,
   "id": "9987066d",
   "metadata": {},
   "outputs": [],
   "source": [
    "output_path = r\"C:\\Users\\samri\\Documents\\101_bioinformatics\\IPA\\ipaPy2\\annotations_cleaned_allFeatures_neg.json\"\n",
    "\n",
    "with open(output_path, \"w\") as f:\n",
    "    json.dump(annotations_serializable, f, indent=4)\n",
    "\n",
    "print(f\"Cleaned annotations saved to: {output_path}\")\n"
   ]
  }
 ],
 "metadata": {
  "language_info": {
   "name": "python"
  }
 },
 "nbformat": 4,
 "nbformat_minor": 5
}
